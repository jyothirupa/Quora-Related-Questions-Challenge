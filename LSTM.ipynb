{
 "cells": [
  {
   "cell_type": "code",
   "execution_count": 1,
   "metadata": {},
   "outputs": [],
   "source": [
    "import numpy as np\n",
    "import pandas as pd"
   ]
  },
  {
   "cell_type": "code",
   "execution_count": 2,
   "metadata": {},
   "outputs": [
    {
     "name": "stderr",
     "output_type": "stream",
     "text": [
      "C:\\ProgramData\\Anaconda3\\lib\\site-packages\\h5py\\__init__.py:36: FutureWarning: Conversion of the second argument of issubdtype from `float` to `np.floating` is deprecated. In future, it will be treated as `np.float64 == np.dtype(float).type`.\n",
      "  from ._conv import register_converters as _register_converters\n",
      "Using TensorFlow backend.\n"
     ]
    }
   ],
   "source": [
    "from keras.layers import Dense, Input, LSTM, Embedding, Dropout, Activation, GlobalAveragePooling1D, Lambda, Bidirectional\n",
    "from keras.models import Model\n",
    "from keras.layers.normalization import BatchNormalization\n",
    "from keras.callbacks import EarlyStopping\n",
    "from keras.optimizers import Adam, RMSprop\n",
    "from keras import backend as K"
   ]
  },
  {
   "cell_type": "code",
   "execution_count": 3,
   "metadata": {},
   "outputs": [
    {
     "data": {
      "text/plain": [
       "'2.2.2'"
      ]
     },
     "execution_count": 3,
     "metadata": {},
     "output_type": "execute_result"
    }
   ],
   "source": [
    "import keras \n",
    "keras.__version__"
   ]
  },
  {
   "cell_type": "code",
   "execution_count": 4,
   "metadata": {},
   "outputs": [],
   "source": [
    "#open .npy files in read mode in the binary format and load\n",
    "q1_data = np.load(open('q1_train.npy', 'rb'))\n",
    "q2_data = np.load(open('q2_train.npy', 'rb'))\n",
    "\n",
    "labels = np.load(open('label_train.npy', 'rb'))\n",
    "embedding_matrix = np.load(open('word_embedding_matrix.npy', 'rb'))"
   ]
  },
  {
   "cell_type": "code",
   "execution_count": 5,
   "metadata": {},
   "outputs": [
    {
     "name": "stderr",
     "output_type": "stream",
     "text": [
      "C:\\ProgramData\\Anaconda3\\lib\\site-packages\\sklearn\\cross_validation.py:41: DeprecationWarning: This module was deprecated in version 0.18 in favor of the model_selection module into which all the refactored classes and functions are moved. Also note that the interface of the new CV iterators are different from that of this module. This module will be removed in 0.20.\n",
      "  \"This module will be removed in 0.20.\", DeprecationWarning)\n"
     ]
    }
   ],
   "source": [
    "from sklearn.cross_validation import train_test_split\n",
    "\n",
    "#joining the numpy array containing the question series along the 2nd dimension (y)\n",
    "X = np.stack((q1_data, q2_data), axis=1)\n",
    "target = labels\n",
    "\n",
    "#X contains the stacked input columns and target contains the is_duplicate flag values \n",
    "#training happens on 75% of the training dataset, train.csv and validation happens on the remaining 25%\n",
    "#stratify - generate samples that represent the dataset effectively - applied on target\n",
    "#random_state = a number (any) => results can be reproduced since only one particular state is taken into consideration\n",
    "X_train, X_val, y_train, y_val = train_test_split(X, target, test_size=0.25, random_state=126, stratify=target)\n",
    "Q1_train = X_train[:,0]\n",
    "Q2_train = X_train[:,1]\n",
    "Q1_val = X_val[:,0]\n",
    "Q2_val = X_val[:,1]"
   ]
  },
  {
   "cell_type": "code",
   "execution_count": 6,
   "metadata": {},
   "outputs": [],
   "source": [
    "#returns the sum of the square of the differences in weights\n",
    "def vec_distance(vects):\n",
    "    x, y = vects\n",
    "    return K.sum(K.square(x - y), axis=1, keepdims=True)"
   ]
  },
  {
   "cell_type": "code",
   "execution_count": 7,
   "metadata": {},
   "outputs": [],
   "source": [
    "#returns the shape of the output vector\n",
    "def vec_output_shape(shapes):\n",
    "    shape1, shape2 = shapes\n",
    "    return (shape1[0], 1)"
   ]
  },
  {
   "cell_type": "code",
   "execution_count": 8,
   "metadata": {},
   "outputs": [],
   "source": [
    "from keras.layers.embeddings import Embedding\n",
    "\n",
    "#create the custom embedding layer\n",
    "#length of the GLoVe file\n",
    "nb_words = 137043\n",
    "#same as that specified during padding\n",
    "max_sentence_len=25\n",
    "#shape = 137043 x 300, weights contains the embedding matrix created\n",
    "#trainable = False => to exclude it from training or to freeze the layer so as to ensure fixed embedding for input text\n",
    "embedding_layer = Embedding(nb_words, 300, weights=[embedding_matrix], input_length=max_sentence_len, trainable=False)"
   ]
  },
  {
   "cell_type": "code",
   "execution_count": 9,
   "metadata": {},
   "outputs": [],
   "source": [
    "#Long Short Term Memory layer with 128 units (dimensionality of the output space), default activation function - tanh\n",
    "lstm_layer =LSTM(128)\n",
    "\n",
    "#to initiate a Keras tensor, tensor object from the underlying backend (Theano, TensorFlow or CNTK), which we augment with certain attributes that allow us to build a Keras model just by knowing the inputs and outputs of the model\n",
    "sequence_1_input = Input(shape=(max_sentence_len,), dtype='int32')\n",
    "#create embedding layer with Keras tensor object as input \n",
    "embedded_sequences_1 = embedding_layer(sequence_1_input)\n",
    "#create LSTM layer with the embedded sequence as input\n",
    "x1 = lstm_layer(embedded_sequences_1)\n",
    "\n",
    "sequence_2_input = Input(shape=(max_sentence_len,), dtype='int32')\n",
    "embedded_sequences_2 = embedding_layer(sequence_2_input)\n",
    "y1 = lstm_layer(embedded_sequences_2)\n",
    "\n",
    "#lambda function performs the functionality defined by the function/method passed to it as argument (here, vec_distance)\n",
    "distance=Lambda(vec_distance, output_shape=vec_output_shape)([x1, y1])\n",
    "#dense layer is a densely connected NN layer\n",
    "#performs linear operations\n",
    "#in order to facilitate non linear operations, use activation functions\n",
    "#sigmoid function converts numbers in the range [0, 1]\n",
    "dense1=Dense(16, activation='sigmoid')(distance)\n",
    "#dropout layer is used to prevent overfitting of the model\n",
    "dense1 = Dropout(0.3)(dense1)\n",
    "\n",
    "#batch normalization is used to speed up learning\n",
    "#when we have features from 0 to 1 and some from 1 to 1000, we should normalize them to speed up learning\n",
    "#applies a transformation that maintains the mean activation close to 0 and the activation standard deviation close to 1\n",
    "bn2 = BatchNormalization()(dense1)\n",
    "prediction=Dense(1, activation='sigmoid')(bn2)\n",
    "\n",
    "#create the model\n",
    "model = Model(inputs=[sequence_1_input, sequence_2_input], outputs=prediction)"
   ]
  },
  {
   "cell_type": "code",
   "execution_count": 10,
   "metadata": {},
   "outputs": [
    {
     "name": "stdout",
     "output_type": "stream",
     "text": [
      "__________________________________________________________________________________________________\n",
      "Layer (type)                    Output Shape         Param #     Connected to                     \n",
      "==================================================================================================\n",
      "input_1 (InputLayer)            (None, 25)           0                                            \n",
      "__________________________________________________________________________________________________\n",
      "input_2 (InputLayer)            (None, 25)           0                                            \n",
      "__________________________________________________________________________________________________\n",
      "embedding_1 (Embedding)         (None, 25, 300)      41112900    input_1[0][0]                    \n",
      "                                                                 input_2[0][0]                    \n",
      "__________________________________________________________________________________________________\n",
      "lstm_1 (LSTM)                   (None, 128)          219648      embedding_1[0][0]                \n",
      "                                                                 embedding_1[1][0]                \n",
      "__________________________________________________________________________________________________\n",
      "lambda_1 (Lambda)               (None, 1)            0           lstm_1[0][0]                     \n",
      "                                                                 lstm_1[1][0]                     \n",
      "__________________________________________________________________________________________________\n",
      "dense_1 (Dense)                 (None, 16)           32          lambda_1[0][0]                   \n",
      "__________________________________________________________________________________________________\n",
      "dropout_1 (Dropout)             (None, 16)           0           dense_1[0][0]                    \n",
      "__________________________________________________________________________________________________\n",
      "batch_normalization_1 (BatchNor (None, 16)           64          dropout_1[0][0]                  \n",
      "__________________________________________________________________________________________________\n",
      "dense_2 (Dense)                 (None, 1)            17          batch_normalization_1[0][0]      \n",
      "==================================================================================================\n",
      "Total params: 41,332,661\n",
      "Trainable params: 219,729\n",
      "Non-trainable params: 41,112,932\n",
      "__________________________________________________________________________________________________\n"
     ]
    }
   ],
   "source": [
    "#detailed summary of the model architecture\n",
    "model.summary()"
   ]
  },
  {
   "cell_type": "code",
   "execution_count": 11,
   "metadata": {},
   "outputs": [],
   "source": [
    "#complile the model using loss - binary cross entropy (convention for binary classifier) and Adam optimizer, performance metrics is accuracy\n",
    "model.compile(loss='binary_crossentropy', optimizer='adam', metrics=['acc'])"
   ]
  },
  {
   "cell_type": "code",
   "execution_count": 12,
   "metadata": {},
   "outputs": [],
   "source": [
    "#callback function that stops the training when the loss value decreases continously for 3 epochs\n",
    "early_stopping =EarlyStopping(monitor='val_loss', patience=3)"
   ]
  },
  {
   "cell_type": "code",
   "execution_count": 13,
   "metadata": {},
   "outputs": [
    {
     "name": "stdout",
     "output_type": "stream",
     "text": [
      "Train on 303217 samples, validate on 101073 samples\n",
      "Epoch 1/10\n",
      "303217/303217 [==============================] - 258s 851us/step - loss: 0.5196 - acc: 0.7409 - val_loss: 0.4297 - val_acc: 0.8014\n",
      "Epoch 2/10\n",
      "303217/303217 [==============================] - 256s 843us/step - loss: 0.4213 - acc: 0.8069 - val_loss: 0.3984 - val_acc: 0.8187\n",
      "Epoch 3/10\n",
      "303217/303217 [==============================] - 257s 846us/step - loss: 0.3808 - acc: 0.8310 - val_loss: 0.3857 - val_acc: 0.8273\n",
      "Epoch 4/10\n",
      "303217/303217 [==============================] - 257s 847us/step - loss: 0.3524 - acc: 0.8471 - val_loss: 0.3820 - val_acc: 0.8325\n",
      "Epoch 5/10\n",
      "303217/303217 [==============================] - 255s 841us/step - loss: 0.3296 - acc: 0.8594 - val_loss: 0.3813 - val_acc: 0.8349\n",
      "Epoch 6/10\n",
      "303217/303217 [==============================] - 255s 841us/step - loss: 0.3094 - acc: 0.8695 - val_loss: 0.3836 - val_acc: 0.8362\n",
      "Epoch 7/10\n",
      "303217/303217 [==============================] - 256s 843us/step - loss: 0.2907 - acc: 0.8790 - val_loss: 0.3899 - val_acc: 0.8375\n",
      "Epoch 8/10\n",
      "303217/303217 [==============================] - 255s 842us/step - loss: 0.2742 - acc: 0.8884 - val_loss: 0.3992 - val_acc: 0.8372\n"
     ]
    }
   ],
   "source": [
    "#fit the model onto the data using which it should be trained\n",
    "#trained for 10 epochs (only 7 execute as a result of early stopping)\n",
    "#batch size of 256 \n",
    "#no shuffling\n",
    "#callback used early stopping\n",
    "hist=model.fit([Q1_train, Q2_train], y_train, validation_data=([Q1_val, Q2_val], y_val), verbose=1, epochs=10, batch_size=256, shuffle=False, class_weight=None, callbacks=[early_stopping])"
   ]
  },
  {
   "cell_type": "code",
   "execution_count": 14,
   "metadata": {},
   "outputs": [],
   "source": [
    "#save the model in a HDF5 file\n",
    "#used to store the trained model\n",
    "#an HDF5 file is a container for two kinds of objects: datasets, which are array-like collections of data, and groups, which are folder-like containers that hold datasets and other groups\n",
    "#groups work like dictionaries, and datasets work like NumPy arrays\n",
    "model.save('my_model.h5')"
   ]
  },
  {
   "cell_type": "code",
   "execution_count": 15,
   "metadata": {},
   "outputs": [
    {
     "name": "stdout",
     "output_type": "stream",
     "text": [
      "3563475/3563475 [==============================] - 1719s 482us/step\n"
     ]
    }
   ],
   "source": [
    "test1_data = np.load(open('test1.npy', 'rb')) \n",
    "test2_data = np.load(open('test2.npy', 'rb'))\n",
    "\n",
    "#predict the values using the test data\n",
    "prediction = model.predict([test1_data, test2_data], verbose=1)"
   ]
  },
  {
   "cell_type": "code",
   "execution_count": 16,
   "metadata": {},
   "outputs": [],
   "source": [
    "#converting similarity value to a class (similar[1]/ not similar[0])\n",
    "rounded_prediction = [round(x[0]) for x in prediction]"
   ]
  },
  {
   "cell_type": "code",
   "execution_count": 17,
   "metadata": {},
   "outputs": [
    {
     "data": {
      "text/plain": [
       "<Figure size 640x480 with 1 Axes>"
      ]
     },
     "metadata": {},
     "output_type": "display_data"
    }
   ],
   "source": [
    "#Accuracy\n",
    "import matplotlib.pyplot as plt\n",
    "plt.plot(hist.history['acc'])\n",
    "plt.plot(hist.history['val_acc'])\n",
    "plt.title('Model Accuracy')\n",
    "plt.ylabel('Accuracy')\n",
    "plt.xlabel('Epoch')\n",
    "plt.legend(['Train', 'Test'], loc='upper left')\n",
    "plt.savefig('Accuracy.png')\n",
    "plt.show()"
   ]
  },
  {
   "cell_type": "code",
   "execution_count": 18,
   "metadata": {},
   "outputs": [
    {
     "data": {
      "image/png": "[encoded data removed]",
      "text/plain": [
       "<Figure size 432x288 with 1 Axes>"
      ]
     },
     "metadata": {},
     "output_type": "display_data"
    }
   ],
   "source": [
    "#loss\n",
    "plt.plot(hist.history['loss'])\n",
    "plt.plot(hist.history['val_loss'])\n",
    "plt.title('Model Loss')\n",
    "plt.ylabel('Loss')\n",
    "plt.xlabel('Epoch')\n",
    "plt.legend(['Train', 'Test'], loc='upper left')\n",
    "plt.savefig('Loss.png')\n",
    "plt.show()"
   ]
  },
  {
   "cell_type": "code",
   "execution_count": 10,
   "metadata": {},
   "outputs": [],
   "source": [
    "#RUN THIS EVERYTIME\n",
    "#retrieve the variables stored in Preprocessing.ipynb (word_index) and POS_tagged_approach.ipynb (question and result) respectively \n",
    "%store -r word_index\n",
    "%store -r question\n",
    "%store -r result"
   ]
  },
  {
   "cell_type": "code",
   "execution_count": 11,
   "metadata": {},
   "outputs": [],
   "source": [
    "#RUN THIS EVERYTIME\n",
    "from keras.preprocessing.text import Tokenizer\n",
    "from keras.preprocessing.sequence import pad_sequences\n",
    "from keras.models import load_model\n",
    "\n",
    "def preprocess(ques):\n",
    "    str(ques)\n",
    "    ques = ques.lower()\n",
    "    ques = str.replace(ques, '?', '')\n",
    "    ques = str.replace(ques, ',', '')\n",
    "    ques = str.replace(ques, '(', '')\n",
    "    ques = str.replace(ques, ')', '')\n",
    "    ques = str.replace(ques, '\"', '')\n",
    "    return ques\n",
    "\n",
    "def execute_similar():\n",
    "    count = 0\n",
    "    model = load_model('my_model.h5')\n",
    "    q1 = question\n",
    "    q1 = preprocess(q1)\n",
    "    q1 = [word_index[word] for word in q1.split()]\n",
    "    q1 = pad_sequences([q1], maxlen=25, padding='post')\n",
    "    for res in result:\n",
    "        q2 = res\n",
    "        q = q2\n",
    "        q2 = preprocess(q2) \n",
    "        q2 = [word_index[word] for word in q2.split()]\n",
    "        q2 = pad_sequences([q2], maxlen=25, padding='post')\n",
    "        val = model.predict([q1, q2], verbose=0)\n",
    "        sim = 'Similar' if int(round(val[0][0])) == 1 else 'Not Similar'\n",
    "        if sim == 'Similar':\n",
    "            print(q)    \n",
    "            count = count + 1\n",
    "    if count == 0:\n",
    "        print(\"Sorry! There are no similar questions.\")"
   ]
  },
  {
   "cell_type": "code",
   "execution_count": 12,
   "metadata": {},
   "outputs": [
    {
     "name": "stdout",
     "output_type": "stream",
     "text": [
      "Sorry! There are no similar questions.\n"
     ]
    }
   ],
   "source": [
    "execute_similar()"
   ]
  }
 ],
 "metadata": {
  "kernelspec": {
   "display_name": "Python 3",
   "language": "python",
   "name": "python3"
  },
  "language_info": {
   "codemirror_mode": {
    "name": "ipython",
    "version": 3
   },
   "file_extension": ".py",
   "mimetype": "text/x-python",
   "name": "python",
   "nbconvert_exporter": "python",
   "pygments_lexer": "ipython3",
   "version": "3.6.5"
  }
 },
 "nbformat": 4,
 "nbformat_minor": 2
}
